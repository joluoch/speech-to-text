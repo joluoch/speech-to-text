{
 "cells": [
  {
   "cell_type": "code",
   "execution_count": 1,
   "source": [
    "import os\r\n",
    "import shutil\r\n",
    "import json\r\n",
    "import logging\r\n",
    "\r\n",
    "\r\n",
    "import mlflow\r\n",
    "import mlflow.sklearn\r\n",
    "\r\n",
    "\r\n",
    "import logging\r\n",
    "\r\n",
    "import dvc.api"
   ],
   "outputs": [],
   "metadata": {}
  },
  {
   "cell_type": "code",
   "execution_count": 3,
   "source": [
    "Format = '%(levelname)s %(asctime)s - %(message)s'\r\n",
    "logging.basicConfig(filename= '../notebooks/metadata.log',\r\n",
    "level =logging.INFO,\r\n",
    "format = Format)\r\n",
    "logger = logging.getLogger()"
   ],
   "outputs": [],
   "metadata": {}
  },
  {
   "cell_type": "code",
   "execution_count": null,
   "source": [
    "directory=('../data/train/wav')\r\n",
    "files=[]\r\n",
    "target=('../data/alldata')"
   ],
   "outputs": [],
   "metadata": {}
  },
  {
   "cell_type": "code",
   "execution_count": null,
   "source": [
    "for folders in os.listdir(directory):\r\n",
    "        #try cacth erros\r\n",
    "        try:\r\n",
    "        \r\n",
    "            \r\n",
    "            logging.info(\"======= Accessing root directory ============= \\n\")\r\n",
    "            \r\n",
    "            print(\"================== Accessing Subfolders ============= \\n\")\r\n",
    "            #accessing subfolders inside train/wav directory\r\n",
    "            subfolder = os.path.join(directory,folders)\r\n",
    "            \r\n",
    "            #looping through all contents in the subfolder\r\n",
    "            for wavz in os.listdir(subfolder):\r\n",
    "\r\n",
    "                print(\"================ Accessing files ============= \\n\")\r\n",
    "                files.append(wavz)\r\n",
    "                finalpath = os.path.join(subfolder,wavz)\r\n",
    "                #copying files to new audio_path\r\n",
    "                print(\"================ copying files to new audio_path============= \\n\")\r\n",
    "                shutil.copy(finalpath, target)\r\n",
    "        except FileNotFoundError:\r\n",
    "            print(\" !!! Error File Not Found  !!!!! \\n\")\r\n",
    "            print(\" !!! Program Failed !!!!! \\n\")\r\n",
    "            logging.error(\" !!! Error Program Failed !!!!! \\n\")\r\n",
    "        except Exception as e:\r\n",
    "            print(\" !!! Error !!!!! \\n\")\r\n",
    "            print (\" !!! An excetion occurred Error: {} \".format(e.__class__))\r\n"
   ],
   "outputs": [],
   "metadata": {}
  },
  {
   "cell_type": "code",
   "execution_count": null,
   "source": [
    "name_to_text={}\r\n",
    "\r\n",
    "## creating metadatfile \r\n",
    "def meta_data():\r\n",
    "    logging.info(\"===================== Initializing meat_data function ==================== \\n\")\r\n",
    "    print (\"===================== Creating metadata file ================= \\n \")\r\n",
    "    filename=('../data/train/text')\r\n",
    "    with open (filename, encoding=\"utf-8\")as f:\r\n",
    "        try:\r\n",
    "            #open the txt file containnig file and matching text file\r\n",
    "            print(\" ========= Opening files ========= \\n\")\r\n",
    "            logging.info(\"===================== Opening text file ========= \\n \")\r\n",
    "            f.readline()\r\n",
    "            for line in f:\r\n",
    "                #split first half to be the value and second part is the key/text\r\n",
    "                \r\n",
    "                name=line.split(\"\\t\")[-1]\r\n",
    "                name=name.rstrip()\r\n",
    "                file=line.split(\"\\t\")[0]\r\n",
    "                file=file+\".wav\"\r\n",
    "                length=len(name)         \r\n",
    "                name_to_text[file]=[name,length]\r\n",
    "            print(\" ========== Completed =========== \\n \")\r\n",
    "        except Exception as e:\r\n",
    "            print (\" !!!! Error !!!! \")\r\n",
    "            print (\" !!!! The system raised an exception {} !!!!!\".format(e.__class__))\r\n",
    "\r\n",
    "    with open(\"../data/meta_data.json\", \"w\") as outfile: \r\n",
    "        json.dump(name_to_text, outfile)"
   ],
   "outputs": [],
   "metadata": {}
  }
 ],
 "metadata": {
  "orig_nbformat": 4,
  "language_info": {
   "name": "python",
   "version": "3.8.8",
   "mimetype": "text/x-python",
   "codemirror_mode": {
    "name": "ipython",
    "version": 3
   },
   "pygments_lexer": "ipython3",
   "nbconvert_exporter": "python",
   "file_extension": ".py"
  },
  "kernelspec": {
   "name": "python3",
   "display_name": "Python 3.8.8 64-bit ('base': conda)"
  },
  "interpreter": {
   "hash": "ad244426f359115d2c0499b23b7bb97e7c6e1bc225e7f39bb6d7e0b4ec820114"
  }
 },
 "nbformat": 4,
 "nbformat_minor": 2
}