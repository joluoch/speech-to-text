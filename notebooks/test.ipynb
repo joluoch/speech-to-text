{
 "cells": [
  {
   "cell_type": "code",
   "execution_count": 1,
   "source": [
    "import wave\r\n",
    "import os\r\n",
    "import librosa "
   ],
   "outputs": [],
   "metadata": {}
  },
  {
   "cell_type": "code",
   "execution_count": 20,
   "source": [
    "Path_to_train = \"../data/train/wav\"\r\n",
    "subfolders = os.listdir(Path_to_train)\r\n",
    "data = []\r\n",
    "for s in subfolders:\r\n",
    "    files = os.listdir(Path_to_train + \"/\" +s)\r\n",
    "    data.extend([Path_to_train + \"/\" + s+ \"/\" + f for f in files])\r\n",
    "data[:10]"
   ],
   "outputs": [
    {
     "output_type": "execute_result",
     "data": {
      "text/plain": [
       "['../data/train/wav/SWH-05-20101106/SWH-05-20101106_16k-emission_swahili_05h30_-_06h00_tu_20101106_part10.wav',\n",
       " '../data/train/wav/SWH-05-20101106/SWH-05-20101106_16k-emission_swahili_05h30_-_06h00_tu_20101106_part100.wav',\n",
       " '../data/train/wav/SWH-05-20101106/SWH-05-20101106_16k-emission_swahili_05h30_-_06h00_tu_20101106_part101.wav',\n",
       " '../data/train/wav/SWH-05-20101106/SWH-05-20101106_16k-emission_swahili_05h30_-_06h00_tu_20101106_part102.wav',\n",
       " '../data/train/wav/SWH-05-20101106/SWH-05-20101106_16k-emission_swahili_05h30_-_06h00_tu_20101106_part103.wav',\n",
       " '../data/train/wav/SWH-05-20101106/SWH-05-20101106_16k-emission_swahili_05h30_-_06h00_tu_20101106_part104.wav',\n",
       " '../data/train/wav/SWH-05-20101106/SWH-05-20101106_16k-emission_swahili_05h30_-_06h00_tu_20101106_part105.wav',\n",
       " '../data/train/wav/SWH-05-20101106/SWH-05-20101106_16k-emission_swahili_05h30_-_06h00_tu_20101106_part106.wav',\n",
       " '../data/train/wav/SWH-05-20101106/SWH-05-20101106_16k-emission_swahili_05h30_-_06h00_tu_20101106_part107.wav',\n",
       " '../data/train/wav/SWH-05-20101106/SWH-05-20101106_16k-emission_swahili_05h30_-_06h00_tu_20101106_part108.wav']"
      ]
     },
     "metadata": {},
     "execution_count": 20
    }
   ],
   "metadata": {}
  },
  {
   "cell_type": "code",
   "execution_count": 7,
   "source": [
    "#read text from every transcription audio\r\n",
    "def read_text( text_path):\r\n",
    "    text = []\r\n",
    "    with open(text_path) as fp:\r\n",
    "        line = fp.readline()\r\n",
    "        while line:\r\n",
    "        # TODO: fix spaces in in amharic text\r\n",
    "            text.append(line)\r\n",
    "            line = fp.readline()\r\n",
    "    return text"
   ],
   "outputs": [],
   "metadata": {}
  },
  {
   "cell_type": "code",
   "execution_count": 9,
   "source": [
    "text = read_text('../data/train/text')"
   ],
   "outputs": [],
   "metadata": {}
  },
  {
   "cell_type": "code",
   "execution_count": 10,
   "source": [
    "#extract the transcription and the label \r\n",
    "label=[]\r\n",
    "transcriptions = []\r\n",
    "for t in text:\r\n",
    "    sp = t.split(\"\\t\")\r\n",
    "    if len(sp) > 1:\r\n",
    "        label.append(sp[0])\r\n",
    "        transcriptions.append(sp[1])\r\n",
    "transcriptions[:10]"
   ],
   "outputs": [
    {
     "output_type": "execute_result",
     "data": {
      "text/plain": [
       "['rais wa tanzania jakaya mrisho kikwete\\n',\n",
       " 'yanayo andaliwa nami pendo pondo idhaa ya kiswahili\\n',\n",
       " 'inayokutangazia moja kwa moja kutoka jijini dar es salaam tanzania\\n',\n",
       " 'juma hili bara la afrika limeshuhudia raia wa nchi za niger\\n',\n",
       " 'wakipiga kura ya maoni ilikufanya mabadiliko ya\\n',\n",
       " 'kule abidjan raia wa jiji hilo\\n',\n",
       " 'walipata fursa ya kutumia haki yao ya msingi\\n',\n",
       " 'waziri mkuu wa zamani alasane watara\\n',\n",
       " 'na rais aliyetangulia henry konan berdi\\n',\n",
       " 'walichuana vikali na rais lauren bagbo\\n']"
      ]
     },
     "metadata": {},
     "execution_count": 10
    }
   ],
   "metadata": {}
  },
  {
   "cell_type": "code",
   "execution_count": 11,
   "source": [
    "word = []\r\n",
    "for l in transcriptions: \r\n",
    "        l = l.replace('\\n',' ')\r\n",
    "        l = l.rstrip()\r\n",
    "        word.append(l)\r\n",
    "word[:10]"
   ],
   "outputs": [
    {
     "output_type": "execute_result",
     "data": {
      "text/plain": [
       "['rais wa tanzania jakaya mrisho kikwete',\n",
       " 'yanayo andaliwa nami pendo pondo idhaa ya kiswahili',\n",
       " 'inayokutangazia moja kwa moja kutoka jijini dar es salaam tanzania',\n",
       " 'juma hili bara la afrika limeshuhudia raia wa nchi za niger',\n",
       " 'wakipiga kura ya maoni ilikufanya mabadiliko ya',\n",
       " 'kule abidjan raia wa jiji hilo',\n",
       " 'walipata fursa ya kutumia haki yao ya msingi',\n",
       " 'waziri mkuu wa zamani alasane watara',\n",
       " 'na rais aliyetangulia henry konan berdi',\n",
       " 'walichuana vikali na rais lauren bagbo']"
      ]
     },
     "metadata": {},
     "execution_count": 11
    }
   ],
   "metadata": {}
  },
  {
   "cell_type": "code",
   "execution_count": 19,
   "source": [
    "#get audio path , every path must corespond to transcription , get the transprion in the doc and append to audio path \r\n",
    "audio_path=[0]*len(transcriptions)\r\n",
    "for d in data:\r\n",
    "    _d = d.strip(\".wav\")\r\n",
    "    sp = _d.split(\"/\")[2]\r\n",
    "    index = label.index(sp)\r\n",
    "    audio_path[index] = d"
   ],
   "outputs": [
    {
     "output_type": "error",
     "ename": "ValueError",
     "evalue": "'data' is not in list",
     "traceback": [
      "\u001b[1;31m---------------------------------------------------------------------------\u001b[0m",
      "\u001b[1;31mValueError\u001b[0m                                Traceback (most recent call last)",
      "\u001b[1;32m<ipython-input-19-cadb5aa4a993>\u001b[0m in \u001b[0;36m<module>\u001b[1;34m\u001b[0m\n\u001b[0;32m      4\u001b[0m     \u001b[0m_d\u001b[0m \u001b[1;33m=\u001b[0m \u001b[0md\u001b[0m\u001b[1;33m.\u001b[0m\u001b[0mstrip\u001b[0m\u001b[1;33m(\u001b[0m\u001b[1;34m\".wav\"\u001b[0m\u001b[1;33m)\u001b[0m\u001b[1;33m\u001b[0m\u001b[1;33m\u001b[0m\u001b[0m\n\u001b[0;32m      5\u001b[0m     \u001b[0msp\u001b[0m \u001b[1;33m=\u001b[0m \u001b[0m_d\u001b[0m\u001b[1;33m.\u001b[0m\u001b[0msplit\u001b[0m\u001b[1;33m(\u001b[0m\u001b[1;34m\"/\"\u001b[0m\u001b[1;33m)\u001b[0m\u001b[1;33m[\u001b[0m\u001b[1;36m1\u001b[0m\u001b[1;33m]\u001b[0m\u001b[1;33m\u001b[0m\u001b[1;33m\u001b[0m\u001b[0m\n\u001b[1;32m----> 6\u001b[1;33m     \u001b[0mindex\u001b[0m \u001b[1;33m=\u001b[0m \u001b[0mlabel\u001b[0m\u001b[1;33m.\u001b[0m\u001b[0mindex\u001b[0m\u001b[1;33m(\u001b[0m\u001b[0msp\u001b[0m\u001b[1;33m)\u001b[0m\u001b[1;33m\u001b[0m\u001b[1;33m\u001b[0m\u001b[0m\n\u001b[0m\u001b[0;32m      7\u001b[0m     \u001b[0maudio_path\u001b[0m\u001b[1;33m[\u001b[0m\u001b[0mindex\u001b[0m\u001b[1;33m]\u001b[0m \u001b[1;33m=\u001b[0m \u001b[0md\u001b[0m\u001b[1;33m\u001b[0m\u001b[1;33m\u001b[0m\u001b[0m\n",
      "\u001b[1;31mValueError\u001b[0m: 'data' is not in list"
     ]
    }
   ],
   "metadata": {}
  },
  {
   "cell_type": "code",
   "execution_count": 18,
   "source": [
    "#calculate duration \r\n",
    "duration_of_recordings=[]\r\n",
    "for d in audio_path:\r\n",
    "    audio, fs = librosa.load(d, sr=None)\r\n",
    "    duration_of_recordings.append(float(len(audio)/fs))"
   ],
   "outputs": [],
   "metadata": {}
  },
  {
   "cell_type": "code",
   "execution_count": 19,
   "source": [
    "import pandas as pd \r\n",
    "data=pd.DataFrame({'key': audio_path,'text': transcriptions, 'duration':duration_of_recordings})"
   ],
   "outputs": [],
   "metadata": {}
  },
  {
   "cell_type": "code",
   "execution_count": 20,
   "source": [
    "data"
   ],
   "outputs": [
    {
     "output_type": "execute_result",
     "data": {
      "text/plain": [
       "                                                     key  \\\n",
       "0      train\\wav/SWH-05-20101106/SWH-05-20101106_16k-...   \n",
       "1      train\\wav/SWH-05-20101106/SWH-05-20101106_16k-...   \n",
       "2      train\\wav/SWH-05-20101106/SWH-05-20101106_16k-...   \n",
       "3      train\\wav/SWH-05-20101106/SWH-05-20101106_16k-...   \n",
       "4      train\\wav/SWH-05-20101106/SWH-05-20101106_16k-...   \n",
       "...                                                  ...   \n",
       "10175  train\\wav/SWH-15-20110310/SWH-15-20110310_16k-...   \n",
       "10176  train\\wav/SWH-15-20110310/SWH-15-20110310_16k-...   \n",
       "10177  train\\wav/SWH-15-20110310/SWH-15-20110310_16k-...   \n",
       "10178  train\\wav/SWH-15-20110310/SWH-15-20110310_16k-...   \n",
       "10179  train\\wav/SWH-15-20110310/SWH-15-20110310_16k-...   \n",
       "\n",
       "                                                    text  duration  \n",
       "0               rais wa tanzania jakaya mrisho kikwete\\n  3.140000  \n",
       "1      yanayo andaliwa nami pendo pondo idhaa ya kisw...  3.100000  \n",
       "2      inayokutangazia moja kwa moja kutoka jijini da...  3.650000  \n",
       "3      juma hili bara la afrika limeshuhudia raia wa ...  3.900000  \n",
       "4      wakipiga kura ya maoni ilikufanya mabadiliko ya\\n  2.940000  \n",
       "...                                                  ...       ...  \n",
       "10175           na somo lile lililopokelewa kule kenya\\n  2.500062  \n",
       "10176          ambapo mtu aliyeshindwa kwenye uchaguzi\\n  2.910000  \n",
       "10177      ni kauli yake mchambuzi wa masuala ya siasa\\n  2.950000  \n",
       "10178  mwanasheria anayemtetea rais wa zamani wa libe...  2.590000  \n",
       "10179  na kesi yake ya kubadilishana almasi na silaha...  5.010000  \n",
       "\n",
       "[10180 rows x 3 columns]"
      ],
      "text/html": [
       "<div>\n",
       "<style scoped>\n",
       "    .dataframe tbody tr th:only-of-type {\n",
       "        vertical-align: middle;\n",
       "    }\n",
       "\n",
       "    .dataframe tbody tr th {\n",
       "        vertical-align: top;\n",
       "    }\n",
       "\n",
       "    .dataframe thead th {\n",
       "        text-align: right;\n",
       "    }\n",
       "</style>\n",
       "<table border=\"1\" class=\"dataframe\">\n",
       "  <thead>\n",
       "    <tr style=\"text-align: right;\">\n",
       "      <th></th>\n",
       "      <th>key</th>\n",
       "      <th>text</th>\n",
       "      <th>duration</th>\n",
       "    </tr>\n",
       "  </thead>\n",
       "  <tbody>\n",
       "    <tr>\n",
       "      <th>0</th>\n",
       "      <td>train\\wav/SWH-05-20101106/SWH-05-20101106_16k-...</td>\n",
       "      <td>rais wa tanzania jakaya mrisho kikwete\\n</td>\n",
       "      <td>3.140000</td>\n",
       "    </tr>\n",
       "    <tr>\n",
       "      <th>1</th>\n",
       "      <td>train\\wav/SWH-05-20101106/SWH-05-20101106_16k-...</td>\n",
       "      <td>yanayo andaliwa nami pendo pondo idhaa ya kisw...</td>\n",
       "      <td>3.100000</td>\n",
       "    </tr>\n",
       "    <tr>\n",
       "      <th>2</th>\n",
       "      <td>train\\wav/SWH-05-20101106/SWH-05-20101106_16k-...</td>\n",
       "      <td>inayokutangazia moja kwa moja kutoka jijini da...</td>\n",
       "      <td>3.650000</td>\n",
       "    </tr>\n",
       "    <tr>\n",
       "      <th>3</th>\n",
       "      <td>train\\wav/SWH-05-20101106/SWH-05-20101106_16k-...</td>\n",
       "      <td>juma hili bara la afrika limeshuhudia raia wa ...</td>\n",
       "      <td>3.900000</td>\n",
       "    </tr>\n",
       "    <tr>\n",
       "      <th>4</th>\n",
       "      <td>train\\wav/SWH-05-20101106/SWH-05-20101106_16k-...</td>\n",
       "      <td>wakipiga kura ya maoni ilikufanya mabadiliko ya\\n</td>\n",
       "      <td>2.940000</td>\n",
       "    </tr>\n",
       "    <tr>\n",
       "      <th>...</th>\n",
       "      <td>...</td>\n",
       "      <td>...</td>\n",
       "      <td>...</td>\n",
       "    </tr>\n",
       "    <tr>\n",
       "      <th>10175</th>\n",
       "      <td>train\\wav/SWH-15-20110310/SWH-15-20110310_16k-...</td>\n",
       "      <td>na somo lile lililopokelewa kule kenya\\n</td>\n",
       "      <td>2.500062</td>\n",
       "    </tr>\n",
       "    <tr>\n",
       "      <th>10176</th>\n",
       "      <td>train\\wav/SWH-15-20110310/SWH-15-20110310_16k-...</td>\n",
       "      <td>ambapo mtu aliyeshindwa kwenye uchaguzi\\n</td>\n",
       "      <td>2.910000</td>\n",
       "    </tr>\n",
       "    <tr>\n",
       "      <th>10177</th>\n",
       "      <td>train\\wav/SWH-15-20110310/SWH-15-20110310_16k-...</td>\n",
       "      <td>ni kauli yake mchambuzi wa masuala ya siasa\\n</td>\n",
       "      <td>2.950000</td>\n",
       "    </tr>\n",
       "    <tr>\n",
       "      <th>10178</th>\n",
       "      <td>train\\wav/SWH-15-20110310/SWH-15-20110310_16k-...</td>\n",
       "      <td>mwanasheria anayemtetea rais wa zamani wa libe...</td>\n",
       "      <td>2.590000</td>\n",
       "    </tr>\n",
       "    <tr>\n",
       "      <th>10179</th>\n",
       "      <td>train\\wav/SWH-15-20110310/SWH-15-20110310_16k-...</td>\n",
       "      <td>na kesi yake ya kubadilishana almasi na silaha...</td>\n",
       "      <td>5.010000</td>\n",
       "    </tr>\n",
       "  </tbody>\n",
       "</table>\n",
       "<p>10180 rows × 3 columns</p>\n",
       "</div>"
      ]
     },
     "metadata": {},
     "execution_count": 20
    }
   ],
   "metadata": {}
  }
 ],
 "metadata": {
  "orig_nbformat": 4,
  "language_info": {
   "name": "python",
   "version": "3.8.8",
   "mimetype": "text/x-python",
   "codemirror_mode": {
    "name": "ipython",
    "version": 3
   },
   "pygments_lexer": "ipython3",
   "nbconvert_exporter": "python",
   "file_extension": ".py"
  },
  "kernelspec": {
   "name": "python3",
   "display_name": "Python 3.8.8 64-bit ('base': conda)"
  },
  "interpreter": {
   "hash": "ad244426f359115d2c0499b23b7bb97e7c6e1bc225e7f39bb6d7e0b4ec820114"
  }
 },
 "nbformat": 4,
 "nbformat_minor": 2
}